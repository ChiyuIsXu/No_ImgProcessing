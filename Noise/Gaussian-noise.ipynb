{
 "cells": [
  {
   "cell_type": "markdown",
   "metadata": {},
   "source": [
    "高斯噪声是一种常见的图像噪声类型，其特征是噪声值呈高斯分布（正态分布）。这种噪声是由图像传感器、传输过程中的干扰、环境因素等引起的。高斯噪声在图像处理中被广泛研究，因为它具有许多实际应用中的特征，能够用数学模型进行建模和分析。"
   ]
  },
  {
   "cell_type": "markdown",
   "metadata": {},
   "source": [
    "高斯噪声的特点\n",
    "分布特性：\n",
    "高斯噪声的像素值分布服从正态分布，即其概率密度函数（PDF）是高斯分布。其分布公式为：\n",
    "\n",
    "其中，μ 是噪声的均值，σ 是噪声的标准差。\n",
    "通常，均值 μ 为0，标准差 σ 控制噪声的强度。\n",
    "\n",
    "噪声均值和方差：\n",
    "均值（μ）：高斯噪声的均值通常为0，这意味着噪声的平均值在图像中不会引入偏移。\n",
    "方差（σ2）：控制噪声的强度或幅度。方差越大，噪声的影响越强，图像的噪点越明显。\n",
    "\n",
    "影响：\n",
    "高斯噪声会在图像中引入随机的亮度变化，导致图像细节丧失和图像质量降低。"
   ]
  },
  {
   "cell_type": "markdown",
   "metadata": {},
   "source": [
    "高斯噪声的应用\n",
    "图像处理：\n",
    "高斯噪声常用作图像处理算法的测试和评估标准。例如，滤波算法（如高斯滤波）可以有效去除高斯噪声。\n",
    "\n",
    "模拟和建模：\n",
    "在图像采集、传输和存储过程中，噪声通常被假设为高斯噪声，这样可以简化建模和分析工作。\n",
    "\n",
    "机器学习：\n",
    "在训练机器学习模型时，常常需要将高斯噪声添加到训练数据中，以提高模型的鲁棒性和泛化能力。"
   ]
  },
  {
   "cell_type": "code",
   "execution_count": 3,
   "metadata": {},
   "outputs": [],
   "source": [
    "import cv2\n",
    "import numpy as np\n",
    "import configuration.config as config\n",
    "\n",
    "def add_gaussian_noise(image, mean=0, sigma=25):\n",
    "    \"\"\"在图像上添加高斯噪声\"\"\"\n",
    "    gauss = np.random.normal(mean, sigma, image.shape).astype('uint8')\n",
    "    noisy_image = cv2.add(image, gauss)\n",
    "    return noisy_image\n",
    "\n",
    "# 读取图像\n",
    "image = cv2.imread(config.TEST_IMAGE, cv2.IMREAD_GRAYSCALE)\n",
    "\n",
    "# 添加高斯噪声\n",
    "noisy_image = add_gaussian_noise(image, mean=0, sigma=25)\n",
    "\n",
    "# 显示结果\n",
    "cv2.imshow('Original Image', image)\n",
    "cv2.imshow('Noisy Image', noisy_image)\n",
    "cv2.waitKey(0)\n",
    "cv2.destroyAllWindows()\n"
   ]
  }
 ],
 "metadata": {
  "kernelspec": {
   "display_name": "DL",
   "language": "python",
   "name": "python3"
  },
  "language_info": {
   "codemirror_mode": {
    "name": "ipython",
    "version": 3
   },
   "file_extension": ".py",
   "mimetype": "text/x-python",
   "name": "python",
   "nbconvert_exporter": "python",
   "pygments_lexer": "ipython3",
   "version": "3.11.9"
  }
 },
 "nbformat": 4,
 "nbformat_minor": 2
}
