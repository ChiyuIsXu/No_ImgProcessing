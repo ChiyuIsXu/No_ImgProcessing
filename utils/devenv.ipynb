{
 "cells": [
  {
   "cell_type": "markdown",
   "metadata": {},
   "source": [
    "# 开发环境"
   ]
  },
  {
   "cell_type": "markdown",
   "metadata": {},
   "source": [
    "## 平台环境"
   ]
  },
  {
   "cell_type": "code",
   "execution_count": 1,
   "metadata": {},
   "outputs": [],
   "source": [
    "import platform\n",
    "import os\n",
    "import inspect"
   ]
  },
  {
   "cell_type": "code",
   "execution_count": 2,
   "metadata": {},
   "outputs": [],
   "source": [
    "# 确认操作系统版本\n",
    "# !winver"
   ]
  },
  {
   "cell_type": "code",
   "execution_count": 3,
   "metadata": {},
   "outputs": [
    {
     "name": "stdout",
     "output_type": "stream",
     "text": [
      "\n",
      "Host Name:                 NOVARYE\n",
      "OS Name:                   Microsoft Windows 11 רҵ��\n",
      "OS Version:                10.0.22631 N/A Build 22631\n",
      "OS Manufacturer:           Microsoft Corporation\n",
      "OS Configuration:          Standalone Workstation\n",
      "OS Build Type:             Multiprocessor Free\n",
      "Registered Owner:          N/A\n",
      "Registered Organization:   N/A\n",
      "Product ID:                00331-10000-00001-AA769\n",
      "Original Install Date:     8/22/2023, 1:34:33 PM\n",
      "System Boot Time:          7/29/2024, 8:42:19 AM\n",
      "System Manufacturer:       LENOVO\n",
      "System Model:              82WK\n",
      "System Type:               x64-based PC\n",
      "Processor(s):              1 Processor(s) Installed.\n",
      "                           [01]: Intel64 Family 6 Model 183 Stepping 1 GenuineIntel ~2200 Mhz\n",
      "BIOS Version:              LENOVO KWCN38WW, 6/20/2023\n",
      "Windows Directory:         C:\\windows\n",
      "System Directory:          C:\\windows\\system32\n",
      "Boot Device:               \\Device\\HarddiskVolume1\n",
      "System Locale:             zh-cn;Chinese (China)\n",
      "Input Locale:              zh-cn;Chinese (China)\n",
      "Time Zone:                 (UTC+08:00) Beijing, Chongqing, Hong Kong, Urumqi\n",
      "Total Physical Memory:     16,192 MB\n",
      "Available Physical Memory: 4,879 MB\n",
      "Virtual Memory: Max Size:  32,576 MB\n",
      "Virtual Memory: Available: 11,805 MB\n",
      "Virtual Memory: In Use:    20,771 MB\n",
      "Page File Location(s):     X:\\pagefile.sys\n",
      "Domain:                    WORKGROUP\n",
      "Logon Server:              \\\\NOVARYE\n",
      "Hotfix(s):                 4 Hotfix(s) Installed.\n",
      "                           [01]: KB5039895\n",
      "                           [02]: KB5027397\n",
      "                           [03]: KB5040442\n",
      "                           [04]: KB5039338\n",
      "Network Card(s):           7 NIC(s) Installed.\n",
      "                           [01]: Realtek PCIe GbE Family Controller\n",
      "                                 Connection Name: ��̫��\n",
      "                                 Status:          Media disconnected\n",
      "                           [02]: Intel(R) Wi-Fi 6E AX211 160MHz\n",
      "                                 Connection Name: WLAN\n",
      "                                 DHCP Enabled:    Yes\n",
      "                                 DHCP Server:     10.133.255.254\n",
      "                                 IP address(es)\n",
      "                                 [01]: 10.133.8.100\n",
      "                                 [02]: fe80::16b8:4e45:26bd:575f\n",
      "                           [03]: Bluetooth Device (Personal Area Network)\n",
      "                                 Connection Name: ������������\n",
      "                                 Status:          Media disconnected\n",
      "                           [04]: Microsoft Wi-Fi Direct Virtual Adapter\n",
      "                                 Connection Name: ��������* 10\n",
      "                                 DHCP Enabled:    No\n",
      "                                 IP address(es)\n",
      "                                 [01]: 192.168.137.1\n",
      "                                 [02]: fe80::ff24:872e:5a48:28cd\n",
      "                           [05]: VMware Virtual Ethernet Adapter for VMnet1\n",
      "                                 Connection Name: VMware Network Adapter VMnet1\n",
      "                                 DHCP Enabled:    Yes\n",
      "                                 DHCP Server:     255.255.255.255\n",
      "                                 IP address(es)\n",
      "                                 [01]: 169.254.251.156\n",
      "                                 [02]: fe80::db34:682f:97fa:43f4\n",
      "                           [06]: Sangfor aTrust VNIC\n",
      "                                 Connection Name: ��������\n",
      "                                 Status:          Media disconnected\n",
      "                           [07]: VMware Virtual Ethernet Adapter for VMnet8\n",
      "                                 Connection Name: VMware Network Adapter VMnet8\n",
      "                                 DHCP Enabled:    Yes\n",
      "                                 DHCP Server:     255.255.255.255\n",
      "                                 IP address(es)\n",
      "                                 [01]: 169.254.41.215\n",
      "                                 [02]: fe80::cae2:1422:ae89:8b56\n",
      "Hyper-V Requirements:      A hypervisor has been detected. Features required for Hyper-V will not be displayed.\n"
     ]
    }
   ],
   "source": [
    "# 检查Windows PE\n",
    "# !ver\n",
    "\n",
    "# !systeminfo"
   ]
  },
  {
   "cell_type": "code",
   "execution_count": 4,
   "metadata": {},
   "outputs": [
    {
     "name": "stdout",
     "output_type": "stream",
     "text": [
      "当前操作系统架构：('64bit', 'WindowsPE')\n",
      "计算平台信息：Windows-10-10.0.22631-SP0\n",
      "处理器信息：Intel64 Family 6 Model 183 Stepping 1, GenuineIntel\n"
     ]
    }
   ],
   "source": [
    "# 获取操作系统架构\n",
    "architecture = platform.architecture()\n",
    "print(f\"当前操作系统架构：{architecture}\")\n",
    "\n",
    "# 获取计算平台信息\n",
    "platform_info = platform.platform()\n",
    "print(f\"计算平台信息：{platform_info}\")\n",
    "\n",
    "# 获取处理器信息\n",
    "processor = platform.processor()\n",
    "print(f\"处理器信息：{processor}\")"
   ]
  },
  {
   "cell_type": "markdown",
   "metadata": {},
   "source": [
    "## Python版本配置"
   ]
  },
  {
   "cell_type": "code",
   "execution_count": 5,
   "metadata": {},
   "outputs": [
    {
     "name": "stdout",
     "output_type": "stream",
     "text": [
      "Python 3.11.9\n"
     ]
    }
   ],
   "source": [
    "!python --version"
   ]
  },
  {
   "cell_type": "markdown",
   "metadata": {},
   "source": [
    "## 测试路径操作"
   ]
  },
  {
   "cell_type": "code",
   "execution_count": 6,
   "metadata": {},
   "outputs": [
    {
     "data": {
      "text/plain": [
       "'x:\\\\PROJECTS\\\\AcademicProjects\\\\GraphixProject\\\\NoBG\\\\utils'"
      ]
     },
     "execution_count": 6,
     "metadata": {},
     "output_type": "execute_result"
    }
   ],
   "source": [
    "os.getcwd()"
   ]
  },
  {
   "cell_type": "code",
   "execution_count": 7,
   "metadata": {},
   "outputs": [
    {
     "name": "stdout",
     "output_type": "stream",
     "text": [
      "当前 Jupyter Notebook 文件的路径是： C:\\Users\\NOVARYE\\AppData\\Local\\Temp\\ipykernel_35832\\2221432063.py\n"
     ]
    }
   ],
   "source": [
    "# 获取当前 Notebook 文件的路径\n",
    "notebook_path = inspect.getfile(lambda: None)\n",
    "print(\"当前 Jupyter Notebook 文件的路径是：\", notebook_path)"
   ]
  },
  {
   "cell_type": "code",
   "execution_count": 8,
   "metadata": {},
   "outputs": [
    {
     "name": "stdout",
     "output_type": "stream",
     "text": [
      " Volume in drive X is X_Volume\n",
      " Volume Serial Number is EA9F-3FAB\n",
      "\n",
      " Directory of x:\\PROJECTS\\AcademicProjects\\GraphixProject\\NoBG\\utils\n",
      "\n",
      "07/29/2024  11:37 PM    <DIR>          .\n",
      "07/30/2024  12:17 AM    <DIR>          ..\n",
      "07/30/2024  12:36 AM             3,514 devenv.ipynb\n",
      "               1 File(s)          3,514 bytes\n",
      "               2 Dir(s)  342,063,390,720 bytes free\n"
     ]
    }
   ],
   "source": [
    "!dir"
   ]
  },
  {
   "cell_type": "markdown",
   "metadata": {},
   "source": [
    "## 测试包管理"
   ]
  },
  {
   "cell_type": "code",
   "execution_count": 9,
   "metadata": {},
   "outputs": [
    {
     "name": "stdout",
     "output_type": "stream",
     "text": [
      "Package            Version\n",
      "------------------ ---------\n",
      "asttokens          2.4.1\n",
      "Brotli             1.1.0\n",
      "certifi            2024.7.4\n",
      "cffi               1.16.0\n",
      "charset-normalizer 3.3.2\n",
      "colorama           0.4.6\n",
      "comm               0.2.2\n",
      "debugpy            1.8.2\n",
      "decorator          5.1.1\n",
      "exceptiongroup     1.2.2\n",
      "executing          2.0.1\n",
      "filelock           3.15.4\n",
      "h2                 4.1.0\n",
      "hpack              4.0.0\n",
      "hyperframe         6.0.1\n",
      "idna               3.7\n",
      "importlib_metadata 8.2.0\n",
      "ipykernel          6.29.5\n",
      "ipython            8.26.0\n",
      "jedi               0.19.1\n",
      "Jinja2             3.1.4\n",
      "jupyter_client     8.6.2\n",
      "jupyter_core       5.7.2\n",
      "MarkupSafe         2.1.5\n",
      "matplotlib-inline  0.1.7\n",
      "mpmath             1.3.0\n",
      "nest_asyncio       1.6.0\n",
      "networkx           3.3\n",
      "numpy              2.0.1\n",
      "opencv-python      4.10.0.84\n",
      "packaging          24.1\n",
      "parso              0.8.4\n",
      "pickleshare        0.7.5\n",
      "pillow             10.4.0\n",
      "pip                24.0\n",
      "platformdirs       4.2.2\n",
      "prompt_toolkit     3.0.47\n",
      "psutil             6.0.0\n",
      "pure_eval          0.2.3\n",
      "pycparser          2.22\n",
      "Pygments           2.18.0\n",
      "PySocks            1.7.1\n",
      "python-dateutil    2.9.0\n",
      "pywin32            306\n",
      "PyYAML             6.0.1\n",
      "pyzmq              26.0.3\n",
      "requests           2.32.3\n",
      "setuptools         71.0.4\n",
      "six                1.16.0\n",
      "stack-data         0.6.2\n",
      "sympy              1.13.0\n",
      "torch              2.4.0\n",
      "torchaudio         2.4.0\n",
      "torchvision        0.19.0\n",
      "tornado            6.4.1\n",
      "traitlets          5.14.3\n",
      "typing_extensions  4.12.2\n",
      "urllib3            2.2.2\n",
      "wcwidth            0.2.13\n",
      "wheel              0.43.0\n",
      "win-inet-pton      1.1.0\n",
      "zipp               3.19.2\n",
      "zstandard          0.23.0\n"
     ]
    }
   ],
   "source": [
    "!pip list --format=columns\n",
    "# pip version 21.1.3"
   ]
  },
  {
   "cell_type": "code",
   "execution_count": 10,
   "metadata": {},
   "outputs": [],
   "source": [
    "# 检查是否已有某个包\n",
    "# !pip show package_name"
   ]
  },
  {
   "cell_type": "code",
   "execution_count": 11,
   "metadata": {},
   "outputs": [],
   "source": [
    "# 导出环境配置，实现本地相同环境的安装\n",
    "# !pip freeze > requirements.txt"
   ]
  },
  {
   "cell_type": "markdown",
   "metadata": {},
   "source": [
    "## 压缩包管理"
   ]
  },
  {
   "cell_type": "markdown",
   "metadata": {},
   "source": [
    "## 数据集"
   ]
  }
 ],
 "metadata": {
  "kernelspec": {
   "display_name": "DL",
   "language": "python",
   "name": "python3"
  },
  "language_info": {
   "codemirror_mode": {
    "name": "ipython",
    "version": 3
   },
   "file_extension": ".py",
   "mimetype": "text/x-python",
   "name": "python",
   "nbconvert_exporter": "python",
   "pygments_lexer": "ipython3",
   "version": "3.11.9"
  }
 },
 "nbformat": 4,
 "nbformat_minor": 2
}
