{
 "cells": [
  {
   "cell_type": "code",
   "execution_count": 4,
   "metadata": {},
   "outputs": [],
   "source": [
    "import logging\n",
    "\n",
    "\n",
    "# if filemode is \"a\", the log will be appended to the file\n",
    "# if filemode is \"x\", the log will be written to the file only if the file does not exist\n",
    "# if filemode is \"w\", the log will be written to the file\n",
    "logging.basicConfig(\n",
    "    level=logging.DEBUG,\n",
    "    filemode=\"w\",\n",
    "    format=\"%(asctime)s - %(levelname)s - %(message)s\",\n",
    ")\n",
    "    # filename=\"log.txt\",\n",
    "\n",
    "logging.debug(\"debug message\")\n",
    "logging.info(\"info message\")\n",
    "logging.warning(\"warning message\")\n",
    "logging.error(\"error message\")\n",
    "logging.critical(\"critical message\")"
   ]
  }
 ],
 "metadata": {
  "kernelspec": {
   "display_name": "DL",
   "language": "python",
   "name": "python3"
  },
  "language_info": {
   "codemirror_mode": {
    "name": "ipython",
    "version": 3
   },
   "file_extension": ".py",
   "mimetype": "text/x-python",
   "name": "python",
   "nbconvert_exporter": "python",
   "pygments_lexer": "ipython3",
   "version": "3.11.9"
  }
 },
 "nbformat": 4,
 "nbformat_minor": 2
}
